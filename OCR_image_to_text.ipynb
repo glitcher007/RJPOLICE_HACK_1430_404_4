{
  "nbformat": 4,
  "nbformat_minor": 0,
  "metadata": {
    "colab": {
      "provenance": [],
      "authorship_tag": "ABX9TyNRYFRj3o6EzNW7sb8pJ//5",
      "include_colab_link": true
    },
    "kernelspec": {
      "name": "python3",
      "display_name": "Python 3"
    },
    "language_info": {
      "name": "python"
    }
  },
  "cells": [
    {
      "cell_type": "markdown",
      "metadata": {
        "id": "view-in-github",
        "colab_type": "text"
      },
      "source": [
        "<a href=\"https://colab.research.google.com/github/glitcher007/RJPOLICE_HACK_1430_404_error_4/blob/main/OCR_image_to_text.ipynb\" target=\"_parent\"><img src=\"https://colab.research.google.com/assets/colab-badge.svg\" alt=\"Open In Colab\"/></a>"
      ]
    },
    {
      "cell_type": "code",
      "source": [
        "!pip install --upgrade colab\n",
        "!pip install win32gui"
      ],
      "metadata": {
        "id": "vWqtfiMwy50S"
      },
      "execution_count": null,
      "outputs": []
    },
    {
      "cell_type": "code",
      "execution_count": null,
      "metadata": {
        "id": "Em7NJqioyWjR"
      },
      "outputs": [],
      "source": [
        "import cv2\n",
        "import imutils\n",
        "import json\n",
        "import matplotlib.pyplot as plt\n",
        "import numpy as np\n",
        "import os\n",
        "import pandas as pd\n",
        "import requests\n",
        "import time\n",
        "from base64 import b64encode\n",
        "from IPython.display import Image\n",
        "from pylab import rcParams"
      ]
    },
    {
      "cell_type": "code",
      "source": [
        "rcParams['figure.figsize'] = 10, 20"
      ],
      "metadata": {
        "id": "BqhqNLlIycql"
      },
      "execution_count": null,
      "outputs": []
    },
    {
      "cell_type": "code",
      "source": [
        "def makeImageData(imgpath):\n",
        "    img_req = None\n",
        "    with open(imgpath, 'rb') as f:\n",
        "        ctxt = b64encode(f.read()).decode()\n",
        "        img_req = {\n",
        "            'image': {\n",
        "                'content': ctxt\n",
        "            },\n",
        "            'features': [{\n",
        "                'type': 'DOCUMENT_TEXT_DETECTION',\n",
        "                'maxResults': 1\n",
        "            }]\n",
        "        }\n",
        "    return json.dumps({\"requests\": img_req}).encode()"
      ],
      "metadata": {
        "id": "p9UgHb8H1iQj"
      },
      "execution_count": 2,
      "outputs": []
    },
    {
      "cell_type": "code",
      "source": [
        "def requestOCR(url, api_key, imgpath):\n",
        "  imgdata = makeImageData(imgpath)\n",
        "  response = requests.post(ENDPOINT_URL,\n",
        "                           data = imgdata,\n",
        "                           params = {'key': api_key},\n",
        "                           headers = {'Content-Type': 'application/json'})\n",
        "  return response"
      ],
      "metadata": {
        "id": "CFZx5Lsj1myV"
      },
      "execution_count": 3,
      "outputs": []
    },
    {
      "cell_type": "code",
      "source": [
        "from pathlib import Path\n",
        "import json\n",
        "\n",
        "cwd = Path.cwd()\n",
        "file = cwd.parent / 'Resources' / 'restaurant.json'\n",
        "file = (cwd.parent / 'Resources' / 'restaurant.json').resolve()\n",
        "if file.exists():\n",
        "    with file.open('r', encoding='utf-8') as f:\n",
        "        data = json.load(f)\n",
        "else:\n",
        "    print(f\"File not found: {file}\")\n",
        "\n",
        "\n"
      ],
      "metadata": {
        "colab": {
          "base_uri": "https://localhost:8080/"
        },
        "id": "AeZowzhC1uDJ",
        "outputId": "7460d266-ddf3-4313-fda5-51732e61788f"
      },
      "execution_count": 4,
      "outputs": [
        {
          "output_type": "stream",
          "name": "stdout",
          "text": [
            "File not found: /Resources/restaurant.json\n"
          ]
        }
      ]
    },
    {
      "cell_type": "code",
      "source": [
        "print(f\"Current working directory: {cwd}\")"
      ],
      "metadata": {
        "colab": {
          "base_uri": "https://localhost:8080/"
        },
        "id": "RWn2hY5y10-R",
        "outputId": "395e2cd4-f757-43e9-d19e-88186d6c7cea"
      },
      "execution_count": 5,
      "outputs": [
        {
          "output_type": "stream",
          "name": "stdout",
          "text": [
            "Current working directory: /content\n"
          ]
        }
      ]
    },
    {
      "cell_type": "code",
      "source": [],
      "metadata": {
        "id": "zs0yTmNP3Lyg"
      },
      "execution_count": null,
      "outputs": []
    }
  ]
}